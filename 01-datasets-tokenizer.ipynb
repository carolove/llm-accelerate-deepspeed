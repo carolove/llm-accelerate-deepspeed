{
 "cells": [
  {
   "cell_type": "code",
   "execution_count": null,
   "metadata": {},
   "outputs": [],
   "source": [
    "import os\n",
    "\n",
    "os.environ[\"HTTPS_PROXY\"] = \"http://10.161.0.82:7899/\"\n",
    "os.environ[\"HF_ENDPOINT\"] = \"https://hf.neolink-ai.com\"\n",
    "\n",
    "from datasets import load_dataset\n",
    "\n",
    "\n",
    "ds = load_dataset(\"rajpurkar/squad_v2\")\n",
    "ds.save_to_disk(\"squad_v2\")"
   ]
  },
  {
   "cell_type": "code",
   "execution_count": null,
   "metadata": {},
   "outputs": [],
   "source": [
    "import os\n",
    "os.environ[\"HF_ENDPOINT\"] = \"https://hf.neolink-ai.com\"\n",
    "os.environ[\"HTTPS_PROXY\"] = \"http://10.161.0.82:7899/\"\n",
    "\n",
    "from datasets import load_dataset\n",
    "\n",
    "data_files = {\"train\": \"SQuAD_it-train.json\", \"test\": \"SQuAD_it-test.json\"}\n",
    "# 加载json文件，并把data 列放入dataset，作为train段，整体返回是一个dataset dict\n",
    "squad_train_dataset = load_dataset(\"json\", data_files=data_files, field=\"data\")\n",
    "squad_train_dataset"
   ]
  }
 ],
 "metadata": {
  "kernelspec": {
   "display_name": "Python 3",
   "language": "python",
   "name": "python3"
  },
  "language_info": {
   "codemirror_mode": {
    "name": "ipython",
    "version": 3
   },
   "file_extension": ".py",
   "mimetype": "text/x-python",
   "name": "python",
   "nbconvert_exporter": "python",
   "pygments_lexer": "ipython3",
   "version": "3.10.12"
  }
 },
 "nbformat": 4,
 "nbformat_minor": 2
}
