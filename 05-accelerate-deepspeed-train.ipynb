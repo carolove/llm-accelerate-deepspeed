{
 "cells": [
  {
   "cell_type": "code",
   "execution_count": 8,
   "metadata": {},
   "outputs": [],
   "source": [
    "# 完成数据预处理将数据整理成prompt的格式\n",
    "from datasets import load_dataset\n",
    "import json\n",
    "import os\n",
    "\n",
    "\n",
    "data_files = {\n",
    "    \"train\": \"alpaca_data.json\",\n",
    "}\n",
    "\n",
    "dataset = load_dataset(\"json\", data_files=data_files)\n",
    "\n",
    "def main():\n",
    "    if not os.path.exists(\"data\"):\n",
    "        os.mkdir(\"data\")\n",
    "\n",
    "\n",
    "    with open(f\"data/alpaca_data.jsonl\", \"w\") as f:\n",
    "        for item in dataset[\"train\"]:\n",
    "            newitem = {}\n",
    "            if item[\"input\"]:\n",
    "                newitem[\"source\"] = (\n",
    "                    \"Below is an instruction that describes a task, paired with an input that provides further context. \" + \"\\n\"+ \\\n",
    "                    \"Write a response that appropriately completes the request.\\n\\n\" + \\\n",
    "                    \"### Instruction:\\n\" + item[\"instruction\"] + \"\\n\\n\" + \\\n",
    "                    \"### Input:\\n\" + item[\"input\"] + \"\\n\\n\"  \\\n",
    "                    \"### Response:\\n\" + item[\"output\"]\n",
    "                )\n",
    "            else:\n",
    "                newitem[\"source\"] = (\n",
    "                    \"Below is an instruction that describes a task. \" + \"\\n\"+ \\\n",
    "                    \"Write a response that appropriately completes the request.\\n\\n\" + \\\n",
    "                    \"### Instruction:\\n\" + item[\"instruction\"] + \"\\n\\n\" + \\\n",
    "                    \"### Response:\\n\" + item[\"output\"]\n",
    "                )\n",
    "            f.write(json.dumps(newitem) + \"\\n\")\n",
    "\n",
    "\n",
    "if __name__ == \"__main__\":\n",
    "    main()\n"
   ]
  }
 ],
 "metadata": {
  "kernelspec": {
   "display_name": "Python 3",
   "language": "python",
   "name": "python3"
  },
  "language_info": {
   "codemirror_mode": {
    "name": "ipython",
    "version": 3
   },
   "file_extension": ".py",
   "mimetype": "text/x-python",
   "name": "python",
   "nbconvert_exporter": "python",
   "pygments_lexer": "ipython3",
   "version": "3.10.12"
  }
 },
 "nbformat": 4,
 "nbformat_minor": 2
}
